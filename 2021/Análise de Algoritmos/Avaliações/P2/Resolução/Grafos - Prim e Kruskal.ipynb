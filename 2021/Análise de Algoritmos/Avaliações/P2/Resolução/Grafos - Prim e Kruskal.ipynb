{
 "cells": [
  {
   "cell_type": "markdown",
   "metadata": {},
   "source": [
    "<h1> Trabalho 2 - Análise de Algoritmos <br> Grafos: Algoritmos de Prim e Kruskal para MST </h1>\n",
    "<h3> Davi Augusto Neves Leite - RA: 191027383 <br> Luiz Fernando Sementille - RA: 191021032 </h3>"
   ]
  },
  {
   "cell_type": "markdown",
   "metadata": {},
   "source": [
    "---\n",
    "## 1. Introdução"
   ]
  },
  {
   "cell_type": "markdown",
   "metadata": {},
   "source": [
    "Uma <b>Árvore Geradora Mínima</b>, ou MST em inglês, pode ser definido formalmente da seguinte forma: <br>\n",
    "\n",
    "<q><i>Dado um grafo não orientado, conexo e ponderado G = (V, A), a árvore geradora mínima é um subgrafo de G, denotado por G’ = (V, A’), que conecta todos os vértices de G e com o menor peso total final.</i></q> <br>\n",
    "\n",
    "Para os problemas de MST os algoritmos mais usuais são os algoritmos de <b>Prim</b> e <b>Kruskal</b>. Ambos os algoritmos usam uma abordagem gulosa para resolver problemas, em cada iteração os algoritmos “abocanham” a aresta que parece mais promissora naquele momento sem se preocupar com efeito global dessa escolha. Apesar de utilizarem essa abordagem, é sempre garantido que se alcance a melhor solução possível. Além disso, as execuções são muito rápidas. <br>   \n",
    "Dessa forma, o trabalho consiste na implementação e testagem dos algoritmos de Prim e Kruskal para alcançar a MST e o seu custo total, a partir de um grafo definido pelo usuário. O intuito é avaliar as diferenças bem como a complexidade temporal de ambas abordagens, definindo qual usar dependendo da ocasião. <br>\n",
    "\n",
    "Para tanto, as seções foram divididas em: Funções Auxiliares, a qual contém algumas funções utilizadas para facilitar a implementação dos algoritmos de MST, bem como na exibição dos resultados obtidos; Explicação e Implementação dos Algoritmos, em que. como o próprio nome diz, traz a ideia geral de como cada algoritmo funciona e sua respectiva implementação na linguagem Python 3; Exemplos, cujo intuito está em trazer, em termos práticos, a aplicação de ambos os algoritmos para diferentes tipos de grafos e; Conclusões, na qual traz os resultados obtidos, em termos de complexidade, e as considerações finais acerca do tema. <br>\n",
    "\n",
    "Por fim, necessitou-se de uma biblioteca para a melhor implementação do algoritmo de Prim: a heapq, biblioteca que possui funções primárias de construção e manipulação de uma árvore do tipo Heap."
   ]
  },
  {
   "cell_type": "code",
   "execution_count": 1,
   "metadata": {},
   "outputs": [],
   "source": [
    "import heapq as hp  # Utilizado para importar a árvore heap para o algoritmo de Prim"
   ]
  },
  {
   "cell_type": "markdown",
   "metadata": {},
   "source": [
    "---\n",
    "## 2. Funções Auxiliares"
   ]
  },
  {
   "cell_type": "markdown",
   "metadata": {},
   "source": [
    "Para facilitar a implementação e utilização dos algoritmos de Prim e Kruskal, foi necessária a criação de três funções auxiliares no código-fonte. <br>\n",
    "\n",
    "A primeira e a segunda estão associadas à estrutura de dados denominada <b>União-Busca</b> (ou <i>Disjoint Set Union</i>, do inglês). Essa estrutura permite o controle de um conjunto de elementos particionados em subconjuntos disjuntos. Dessa forma, as funções associadas <i>“juntar”</i> e <i>“encontrar”</i> são utilizadas no algoritmo de Kruskal para armazenar vários conjuntos disjuntos de vértices e, assim, encontrar a Árvore Geradora Mínima a partir da chamada aresta segura (aresta que tenha o menor peso no grafo e que não tenha sido inserida na estrutura)."
   ]
  },
  {
   "cell_type": "code",
   "execution_count": 2,
   "metadata": {},
   "outputs": [],
   "source": [
    "# Disjoint Set Union (DSU) para Kruskal\n",
    "def juntar(a, b):\n",
    "    if(tamanho[a] < tamanho[b]):\n",
    "        a, b = b, a\n",
    "\n",
    "    link[b] = a\n",
    "    tamanho[a] += tamanho[b]\n",
    "\n",
    "def encontrar(x):\n",
    "    if(x == link[x]):\n",
    "        return x\n",
    "\n",
    "    return encontrar(link[x])"
   ]
  },
  {
   "cell_type": "markdown",
   "metadata": {},
   "source": [
    "A terceira, denominada de <i>“mostraMST”</i>, como o próprio nome sugere, é responsável por exibir os valores da MST (em termos de vértice origem, vértice destino e peso entre eles) bem como o custo mínimo total final."
   ]
  },
  {
   "cell_type": "code",
   "execution_count": 3,
   "metadata": {},
   "outputs": [],
   "source": [
    "# Mostrar a MST e o custo mínimo total\n",
    "def mostraMST(mst, cost):\n",
    "    print('Árvore Geradora Mínima:\\n')\n",
    "\n",
    "    for aresta in mst:\n",
    "        print(aresta)\n",
    "\n",
    "    print('\\nCusto:', cost)\n",
    "    print(\"##############################\")"
   ]
  },
  {
   "cell_type": "markdown",
   "metadata": {},
   "source": [
    "---\n",
    "## 3. Explicação e Implementação dos Algoritmos"
   ]
  },
  {
   "cell_type": "markdown",
   "metadata": {},
   "source": [
    "Nesta seção, são abordados o método genérico de implementação dos algoritmos e o funcionamento de cada algoritmo analisado, bem como a implementação em Python 3."
   ]
  },
  {
   "cell_type": "markdown",
   "metadata": {},
   "source": [
    "### Método Genérico"
   ]
  },
  {
   "cell_type": "markdown",
   "metadata": {},
   "source": [
    "É feito um loop sobre as arestas do grafo dado pelo usuário e a cada passo é determinada uma aresta (u, v) que poderá ser inserida em G’. Essa aresta é chamada de <b>aresta segura</b>, pois ela pode ser adicionada com segurança em G’ sem que prejudique a formação de uma árvore geradora mínima. Cada um dos algoritmos possui uma definição própria do que considera uma aresta segura."
   ]
  },
  {
   "cell_type": "markdown",
   "metadata": {},
   "source": [
    "### Prim"
   ]
  },
  {
   "cell_type": "markdown",
   "metadata": {},
   "source": [
    "O algoritmo de Prim considera uma aresta segura, uma aresta (u, v) ∈ A que possua o menor custo possível e que seja incidente a um vértice que já pertença à árvore, que ainda não tenha sido inserida e não forme ciclos."
   ]
  },
  {
   "cell_type": "markdown",
   "metadata": {},
   "source": [
    "<b>Complexidade de Tempo (Lista de Adjacência): O(a log v), em que <i>a</i> é o número de arestas e <i>v</i> o número de vértices.</b>"
   ]
  },
  {
   "cell_type": "code",
   "execution_count": 4,
   "metadata": {},
   "outputs": [],
   "source": [
    "###################################################################################\n",
    "# Algoritmo de Prim\n",
    "###################################################################################\n",
    "def prim(origem, numVertices, adjLista):\n",
    "    visitado = [False for i in range(numVertices + 1)]\n",
    "    parent = [-1 for i in range(numVertices + 1)]\n",
    "    distancia = [float('inf') for i in range(numVertices + 1)]\n",
    "    \n",
    "    fila_prioridade = []\n",
    "    distancia[origem] = 0\n",
    "    hp.heappush(fila_prioridade, [distancia[origem], origem]) # Inserindo o primeiro vértice com custo 0\n",
    "    \n",
    "    mst = []\n",
    "    custo = 0\n",
    "\n",
    "    while fila_prioridade:\n",
    "        # Recuperando valores\n",
    "        valor_fila = fila_prioridade[0]\n",
    "        peso, no = valor_fila\n",
    "\n",
    "        hp.heappop(fila_prioridade) # Eliminando da Fila\n",
    "\n",
    "        if(not visitado[no]):\n",
    "            custo += peso\n",
    "            visitado[no] = True\n",
    "\n",
    "            for par_peso_no in adjLista[no]:\n",
    "                no_adj, peso_adj = par_peso_no\n",
    "                if(visitado[no_adj] == False and distancia[no_adj] > peso_adj):\n",
    "                    parent[no_adj] = no\n",
    "                    distancia[no_adj] = peso_adj\n",
    "                    \n",
    "                    hp.heappush(fila_prioridade, [peso_adj, no_adj])\n",
    "\n",
    "    for i in range(1, numVertices + 1):\n",
    "        if(parent[i] != -1):\n",
    "            mst.append([parent[i], i, distancia[i]])\n",
    "    \n",
    "    return mst, custo"
   ]
  },
  {
   "cell_type": "markdown",
   "metadata": {},
   "source": [
    "### Kruskal"
   ]
  },
  {
   "cell_type": "markdown",
   "metadata": {},
   "source": [
    "O algoritmo de Kruskal considera uma aresta segura, uma aresta (u, v) que dentre todas as arestas de G tenha o menor custo e que já não tenha sido inserida. O algoritmo utiliza uma estrutura de dados auxiliar denominada <i><b>Disjoint-Set (Union Find)</b></i> para armazenar vários conjuntos disjuntos de vértices, isto é, inicialmente cada vértice é o líder do seu próprio conjunto."
   ]
  },
  {
   "cell_type": "markdown",
   "metadata": {},
   "source": [
    "<b>Complexidade de Tempo (Lista de Adjacência): O(a log v), em que <i>a</i> é o número de arestas e <i>v</i> o número de vértices.</b>"
   ]
  },
  {
   "cell_type": "code",
   "execution_count": 5,
   "metadata": {},
   "outputs": [],
   "source": [
    "###################################################################################\n",
    "# Algoritmo de Krukal\n",
    "###################################################################################\n",
    "def kruskal(numArestas, arestaLista):\n",
    "    mst = []\n",
    "    custo = 0\n",
    "\n",
    "    # Ordenar por peso\n",
    "    arestaLista = sorted(arestaLista)\n",
    "\n",
    "    for i in range(numArestas):\n",
    "        peso = arestaLista[i][0]\n",
    "        origem = arestaLista[i][1]\n",
    "        destino = arestaLista[i][2]\n",
    "\n",
    "        origemLocalizacao = encontrar(origem)\n",
    "        destinoLocalizacao = encontrar(destino)\n",
    "\n",
    "        if(origemLocalizacao != destinoLocalizacao):\n",
    "            juntar(origemLocalizacao, destinoLocalizacao)\n",
    "            custo += peso\n",
    "\n",
    "            mst.append([origem, destino, peso])\n",
    "\n",
    "    return mst, custo"
   ]
  },
  {
   "cell_type": "markdown",
   "metadata": {},
   "source": [
    "---\n",
    "## 4. Exemplos"
   ]
  },
  {
   "cell_type": "markdown",
   "metadata": {},
   "source": [
    "Os casos de teste foram gerados aleatoriamente pela ferramenta <b><i>“Test Case Generator”</i></b> (https://test-case-generator.herokuapp.com/), com a opção de Grafos Ponderados Aleatórios (<i>Random Weighted Graph</i>). Os grafos apresentados abaixo são formados pela tupla {origem, destino, peso da aresta}. Também, limitou-se os pesos das arestas de 1 até 10, inclusivo."
   ]
  },
  {
   "cell_type": "markdown",
   "metadata": {},
   "source": [
    "### Exemplo 1"
   ]
  },
  {
   "cell_type": "markdown",
   "metadata": {},
   "source": [
    "Número de Vértices = 4 <br>\n",
    "Número de Arestas = 4 <br>\n",
    "\n",
    "Grafo 1 <br>\n",
    "\n",
    "{2, 1, 6} <br>\n",
    "{3, 1, 2} <br>\n",
    "{3, 4, 2} <br>\n",
    "{1, 3, 1} "
   ]
  },
  {
   "cell_type": "code",
   "execution_count": 6,
   "metadata": {},
   "outputs": [
    {
     "name": "stdin",
     "output_type": "stream",
     "text": [
      " 4 4\n",
      " 2 1 6\n",
      " 3 1 2\n",
      " 3 4 2\n",
      " 1 3 1\n"
     ]
    },
    {
     "name": "stdout",
     "output_type": "stream",
     "text": [
      "##############################\n",
      "Algoritmo de Prim\n",
      "Árvore Geradora Mínima:\n",
      "\n",
      "[1, 2, 6]\n",
      "[1, 3, 1]\n",
      "[3, 4, 2]\n",
      "\n",
      "Custo: 9\n",
      "##############################\n",
      "Algoritmo de Kruskal\n",
      "Árvore Geradora Mínima:\n",
      "\n",
      "[1, 3, 1]\n",
      "[3, 4, 2]\n",
      "[2, 1, 6]\n",
      "\n",
      "Custo: 9\n",
      "##############################\n"
     ]
    }
   ],
   "source": [
    "###################################################################################\n",
    "# Main\n",
    "###################################################################################\n",
    "numVertices, numArestas = input().split()\n",
    "\n",
    "numVertices = int(numVertices)  # Número de Vértices\n",
    "numArestas  = int(numArestas)   # Número de Arestas\n",
    "\n",
    "# Prim com Lista de Adjacência\n",
    "adjLista = [[] for i in range(numVertices + 1)]\n",
    "\n",
    "# Kruskal com Lista de Arestas Adjacentes\n",
    "arestaLista = []\n",
    "link = [i for i in range(numVertices + 1)]\n",
    "tamanho = [1 for i in range(numVertices + 1)]\n",
    "\n",
    "# Leitura do Grafo\n",
    "for i in range(numArestas):\n",
    "    origem, destino, peso = input().split()\n",
    "\n",
    "    origem = int(origem)\n",
    "    destino = int(destino)\n",
    "    peso = int(peso)\n",
    "\n",
    "    # Inserção no Prim\n",
    "    adjLista[origem].append([destino, peso])\n",
    "    adjLista[destino].append([origem, peso])\n",
    "\n",
    "    # Inserção no Kruskal\n",
    "    arestaLista.append([peso, origem, destino])\n",
    "\n",
    "# Aplicando Prim para MST\n",
    "mst, custo = prim(1, numVertices, adjLista)\n",
    "\n",
    "# Resultado do Prim\n",
    "print(\"##############################\")\n",
    "print(\"Algoritmo de Prim\")\n",
    "mostraMST(mst, custo)\n",
    "\n",
    "# Aplicando Kruskal para MST\n",
    "mst, custo = kruskal(numArestas, arestaLista)\n",
    "\n",
    "# Resultado do Kruskal\n",
    "print(\"Algoritmo de Kruskal\")\n",
    "mostraMST(mst, custo)"
   ]
  },
  {
   "cell_type": "markdown",
   "metadata": {},
   "source": [
    "### Exemplo 2"
   ]
  },
  {
   "cell_type": "markdown",
   "metadata": {},
   "source": [
    "Número de Vértices = 5 <br>\n",
    "Número de Arestas = 4 <br>\n",
    "\n",
    "Grafo 2 <br>\n",
    "\n",
    "{3, 4, 1} <br>\n",
    "{1, 4, 6} <br>\n",
    "{5, 2, 2} <br>\n",
    "{4, 5, 5} "
   ]
  },
  {
   "cell_type": "code",
   "execution_count": 7,
   "metadata": {},
   "outputs": [
    {
     "name": "stdin",
     "output_type": "stream",
     "text": [
      " 5 4\n",
      " 3 4 1\n",
      " 1 4 6\n",
      " 5 2 2\n",
      " 4 5 5\n"
     ]
    },
    {
     "name": "stdout",
     "output_type": "stream",
     "text": [
      "##############################\n",
      "Algoritmo de Prim\n",
      "Árvore Geradora Mínima:\n",
      "\n",
      "[5, 2, 2]\n",
      "[4, 3, 1]\n",
      "[1, 4, 6]\n",
      "[4, 5, 5]\n",
      "\n",
      "Custo: 14\n",
      "##############################\n",
      "Algoritmo de Kruskal\n",
      "Árvore Geradora Mínima:\n",
      "\n",
      "[3, 4, 1]\n",
      "[5, 2, 2]\n",
      "[4, 5, 5]\n",
      "[1, 4, 6]\n",
      "\n",
      "Custo: 14\n",
      "##############################\n"
     ]
    }
   ],
   "source": [
    "###################################################################################\n",
    "# Main\n",
    "###################################################################################\n",
    "numVertices, numArestas = input().split()\n",
    "\n",
    "numVertices = int(numVertices)  # Número de Vértices\n",
    "numArestas  = int(numArestas)   # Número de Arestas\n",
    "\n",
    "# Prim com Lista de Adjacência\n",
    "adjLista = [[] for i in range(numVertices + 1)]\n",
    "\n",
    "# Kruskal com Lista de Arestas Adjacentes\n",
    "arestaLista = []\n",
    "link = [i for i in range(numVertices + 1)]\n",
    "tamanho = [1 for i in range(numVertices + 1)]\n",
    "\n",
    "# Leitura do Grafo\n",
    "for i in range(numArestas):\n",
    "    origem, destino, peso = input().split()\n",
    "\n",
    "    origem = int(origem)\n",
    "    destino = int(destino)\n",
    "    peso = int(peso)\n",
    "\n",
    "    # Inserção no Prim\n",
    "    adjLista[origem].append([destino, peso])\n",
    "    adjLista[destino].append([origem, peso])\n",
    "\n",
    "    # Inserção no Kruskal\n",
    "    arestaLista.append([peso, origem, destino])\n",
    "\n",
    "# Aplicando Prim para MST\n",
    "mst, custo = prim(1, numVertices, adjLista)\n",
    "\n",
    "# Resultado do Prim\n",
    "print(\"##############################\")\n",
    "print(\"Algoritmo de Prim\")\n",
    "mostraMST(mst, custo)\n",
    "\n",
    "# Aplicando Kruskal para MST\n",
    "mst, custo = kruskal(numArestas, arestaLista)\n",
    "\n",
    "# Resultado do Kruskal\n",
    "print(\"Algoritmo de Kruskal\")\n",
    "mostraMST(mst, custo)"
   ]
  },
  {
   "cell_type": "markdown",
   "metadata": {},
   "source": [
    "### Exemplo 3"
   ]
  },
  {
   "cell_type": "markdown",
   "metadata": {},
   "source": [
    "Número de Vértices = 4 <br>\n",
    "Número de Arestas = 6 <br>\n",
    "\n",
    "Grafo 3 <br>\n",
    "\n",
    "{2, 1, 6} <br>\n",
    "{3, 1, 5} <br>\n",
    "{3, 4, 8} <br>\n",
    "{4, 1, 4} <br>\n",
    "{3, 2, 1} <br>\n",
    "{1, 4, 4} "
   ]
  },
  {
   "cell_type": "code",
   "execution_count": 8,
   "metadata": {},
   "outputs": [
    {
     "name": "stdin",
     "output_type": "stream",
     "text": [
      " 4 6\n",
      " 2 1 6\n",
      " 3 1 5\n",
      " 3 4 8\n",
      " 4 1 4\n",
      " 3 2 1\n",
      " 1 4 4\n"
     ]
    },
    {
     "name": "stdout",
     "output_type": "stream",
     "text": [
      "##############################\n",
      "Algoritmo de Prim\n",
      "Árvore Geradora Mínima:\n",
      "\n",
      "[3, 2, 1]\n",
      "[1, 3, 5]\n",
      "[1, 4, 4]\n",
      "\n",
      "Custo: 10\n",
      "##############################\n",
      "Algoritmo de Kruskal\n",
      "Árvore Geradora Mínima:\n",
      "\n",
      "[3, 2, 1]\n",
      "[1, 4, 4]\n",
      "[3, 1, 5]\n",
      "\n",
      "Custo: 10\n",
      "##############################\n"
     ]
    }
   ],
   "source": [
    "###################################################################################\n",
    "# Main\n",
    "###################################################################################\n",
    "numVertices, numArestas = input().split()\n",
    "\n",
    "numVertices = int(numVertices)  # Número de Vértices\n",
    "numArestas  = int(numArestas)   # Número de Arestas\n",
    "\n",
    "# Prim com Lista de Adjacência\n",
    "adjLista = [[] for i in range(numVertices + 1)]\n",
    "\n",
    "# Kruskal com Lista de Arestas Adjacentes\n",
    "arestaLista = []\n",
    "link = [i for i in range(numVertices + 1)]\n",
    "tamanho = [1 for i in range(numVertices + 1)]\n",
    "\n",
    "# Leitura do Grafo\n",
    "for i in range(numArestas):\n",
    "    origem, destino, peso = input().split()\n",
    "\n",
    "    origem = int(origem)\n",
    "    destino = int(destino)\n",
    "    peso = int(peso)\n",
    "\n",
    "    # Inserção no Prim\n",
    "    adjLista[origem].append([destino, peso])\n",
    "    adjLista[destino].append([origem, peso])\n",
    "\n",
    "    # Inserção no Kruskal\n",
    "    arestaLista.append([peso, origem, destino])\n",
    "\n",
    "# Aplicando Prim para MST\n",
    "mst, custo = prim(1, numVertices, adjLista)\n",
    "\n",
    "# Resultado do Prim\n",
    "print(\"##############################\")\n",
    "print(\"Algoritmo de Prim\")\n",
    "mostraMST(mst, custo)\n",
    "\n",
    "# Aplicando Kruskal para MST\n",
    "mst, custo = kruskal(numArestas, arestaLista)\n",
    "\n",
    "# Resultado do Kruskal\n",
    "print(\"Algoritmo de Kruskal\")\n",
    "mostraMST(mst, custo)"
   ]
  },
  {
   "cell_type": "markdown",
   "metadata": {},
   "source": [
    "### Exemplo 4"
   ]
  },
  {
   "cell_type": "markdown",
   "metadata": {},
   "source": [
    "Número de Vértices = 6 <br>\n",
    "Número de Arestas = 4 <br>\n",
    "\n",
    "Grafo 4 <br>\n",
    "\n",
    "{4, 1, 2} <br>\n",
    "{4, 3, 1} <br>\n",
    "{4, 5, 3} <br>\n",
    "{3, 1, 8} "
   ]
  },
  {
   "cell_type": "code",
   "execution_count": 9,
   "metadata": {},
   "outputs": [
    {
     "name": "stdin",
     "output_type": "stream",
     "text": [
      " 6 4\n",
      " 4 1 2\n",
      " 4 3 1\n",
      " 4 5 3\n",
      " 3 1 8\n"
     ]
    },
    {
     "name": "stdout",
     "output_type": "stream",
     "text": [
      "##############################\n",
      "Algoritmo de Prim\n",
      "Árvore Geradora Mínima:\n",
      "\n",
      "[4, 3, 1]\n",
      "[1, 4, 2]\n",
      "[4, 5, 3]\n",
      "\n",
      "Custo: 6\n",
      "##############################\n",
      "Algoritmo de Kruskal\n",
      "Árvore Geradora Mínima:\n",
      "\n",
      "[4, 3, 1]\n",
      "[4, 1, 2]\n",
      "[4, 5, 3]\n",
      "\n",
      "Custo: 6\n",
      "##############################\n"
     ]
    }
   ],
   "source": [
    "###################################################################################\n",
    "# Main\n",
    "###################################################################################\n",
    "numVertices, numArestas = input().split()\n",
    "\n",
    "numVertices = int(numVertices)  # Número de Vértices\n",
    "numArestas  = int(numArestas)   # Número de Arestas\n",
    "\n",
    "# Prim com Lista de Adjacência\n",
    "adjLista = [[] for i in range(numVertices + 1)]\n",
    "\n",
    "# Kruskal com Lista de Arestas Adjacentes\n",
    "arestaLista = []\n",
    "link = [i for i in range(numVertices + 1)]\n",
    "tamanho = [1 for i in range(numVertices + 1)]\n",
    "\n",
    "# Leitura do Grafo\n",
    "for i in range(numArestas):\n",
    "    origem, destino, peso = input().split()\n",
    "\n",
    "    origem = int(origem)\n",
    "    destino = int(destino)\n",
    "    peso = int(peso)\n",
    "\n",
    "    # Inserção no Prim\n",
    "    adjLista[origem].append([destino, peso])\n",
    "    adjLista[destino].append([origem, peso])\n",
    "\n",
    "    # Inserção no Kruskal\n",
    "    arestaLista.append([peso, origem, destino])\n",
    "\n",
    "# Aplicando Prim para MST\n",
    "mst, custo = prim(1, numVertices, adjLista)\n",
    "\n",
    "# Resultado do Prim\n",
    "print(\"##############################\")\n",
    "print(\"Algoritmo de Prim\")\n",
    "mostraMST(mst, custo)\n",
    "\n",
    "# Aplicando Kruskal para MST\n",
    "mst, custo = kruskal(numArestas, arestaLista)\n",
    "\n",
    "# Resultado do Kruskal\n",
    "print(\"Algoritmo de Kruskal\")\n",
    "mostraMST(mst, custo)"
   ]
  },
  {
   "cell_type": "markdown",
   "metadata": {},
   "source": [
    "### Exemplo 5"
   ]
  },
  {
   "cell_type": "markdown",
   "metadata": {},
   "source": [
    "Número de Vértices = 6 <br>\n",
    "Número de Arestas = 6 <br>\n",
    "\n",
    "Grafo 5 <br>\n",
    "\n",
    "{5, 2, 6} <br>\n",
    "{4, 1, 5} <br>\n",
    "{6, 4, 5} <br>\n",
    "{6, 5, 2} <br>\n",
    "{1, 2, 9} <br>\n",
    "{3, 5, 7} "
   ]
  },
  {
   "cell_type": "code",
   "execution_count": 10,
   "metadata": {},
   "outputs": [
    {
     "name": "stdin",
     "output_type": "stream",
     "text": [
      " 6 6\n",
      " 5 2 6\n",
      " 4 1 5\n",
      " 6 4 5\n",
      " 6 5 2\n",
      " 1 2 9\n",
      " 3 5 7\n"
     ]
    },
    {
     "name": "stdout",
     "output_type": "stream",
     "text": [
      "##############################\n",
      "Algoritmo de Prim\n",
      "Árvore Geradora Mínima:\n",
      "\n",
      "[5, 2, 6]\n",
      "[5, 3, 7]\n",
      "[1, 4, 5]\n",
      "[6, 5, 2]\n",
      "[4, 6, 5]\n",
      "\n",
      "Custo: 25\n",
      "##############################\n",
      "Algoritmo de Kruskal\n",
      "Árvore Geradora Mínima:\n",
      "\n",
      "[6, 5, 2]\n",
      "[4, 1, 5]\n",
      "[6, 4, 5]\n",
      "[5, 2, 6]\n",
      "[3, 5, 7]\n",
      "\n",
      "Custo: 25\n",
      "##############################\n"
     ]
    }
   ],
   "source": [
    "###################################################################################\n",
    "# Main\n",
    "###################################################################################\n",
    "numVertices, numArestas = input().split()\n",
    "\n",
    "numVertices = int(numVertices)  # Número de Vértices\n",
    "numArestas  = int(numArestas)   # Número de Arestas\n",
    "\n",
    "# Prim com Lista de Adjacência\n",
    "adjLista = [[] for i in range(numVertices + 1)]\n",
    "\n",
    "# Kruskal com Lista de Arestas Adjacentes\n",
    "arestaLista = []\n",
    "link = [i for i in range(numVertices + 1)]\n",
    "tamanho = [1 for i in range(numVertices + 1)]\n",
    "\n",
    "# Leitura do Grafo\n",
    "for i in range(numArestas):\n",
    "    origem, destino, peso = input().split()\n",
    "\n",
    "    origem = int(origem)\n",
    "    destino = int(destino)\n",
    "    peso = int(peso)\n",
    "\n",
    "    # Inserção no Prim\n",
    "    adjLista[origem].append([destino, peso])\n",
    "    adjLista[destino].append([origem, peso])\n",
    "\n",
    "    # Inserção no Kruskal\n",
    "    arestaLista.append([peso, origem, destino])\n",
    "\n",
    "# Aplicando Prim para MST\n",
    "mst, custo = prim(1, numVertices, adjLista)\n",
    "\n",
    "# Resultado do Prim\n",
    "print(\"##############################\")\n",
    "print(\"Algoritmo de Prim\")\n",
    "mostraMST(mst, custo)\n",
    "\n",
    "# Aplicando Kruskal para MST\n",
    "mst, custo = kruskal(numArestas, arestaLista)\n",
    "\n",
    "# Resultado do Kruskal\n",
    "print(\"Algoritmo de Kruskal\")\n",
    "mostraMST(mst, custo)"
   ]
  },
  {
   "cell_type": "markdown",
   "metadata": {},
   "source": [
    "---\n",
    "## 5. Considerações Finais"
   ]
  },
  {
   "cell_type": "markdown",
   "metadata": {},
   "source": [
    "O objetivo deste trabalho foi realizar uma comparação acerca dos dois principais algoritmos de cálculo da chamada Árvore Geradora Mínima, por meio de cinco testes com grafos diferentes gerados automaticamente. Além disso, um ponto importante abordado foi a complexidade de ambos os algoritmos para grafos do tipo de Lista de Adjacência e que serviu como base na observação de cada teste. <br>\n",
    "\n",
    "Diante disso, cada algoritmo foi implementado na linguagem de programação Python 3, com intuito de facilitar a manipulação dos dados e das funções necessárias para a realização dos testes. Também utilizou-se uma ferramenta para a geração dos grafos de testes, como consta no início do capítulo 4 deste trabalho. <br>\n",
    "\n",
    "Tendo em vista os algoritmos e seus objetivos, isto é, calcular a MST, pode-se elencar as seguintes principais diferenças entre ambos: <br>\n",
    "\n",
    "<ul>\n",
    "<li>A complexidade temporal de Prim é melhor do que a do Kruskal, desde que utilizada uma <i><b>Heap de Fibonacci</b></i>, transformando de <b>O(A log V)</b> para <b>O(A + V log V)</b>, tendo <i>A</i> como número de arestas e <i>V</i> como número de vértices do grafo na forma de Lista de Adjacência. </li>\n",
    "\n",
    "<li>O algoritmo de Prim é iniciado com a escolha de um vértice, enquanto que o de Kruskal é iniciado na escolha de uma aresta ordenada. Dessa forma, Prim necessita da existência de um grafo conexo, enquanto Kruskal pode funcionar em grafos desconexos.</li>\n",
    "\n",
    "<li>Prim gera uma árvore única ao decorrer de sua execução, ao passo que Kruskal gera uma floresta e somente tem-se a garantia de uma árvore após a última iteração.</li>\n",
    "</ul>\n",
    "\n",
    "Portanto, infere-se que o algoritmo de Prim é mais eficiente quando há um <b>conjunto de dados muito grande (grafos densos)</b>; enquanto que o algoritmo de Kruskal é mais recomendado para um <b>conjunto de dados menores (grafos esparsos)</b>, pois utiliza estrutura de dados mais simples (<i>Disjoint-Set</i>)."
   ]
  }
 ],
 "metadata": {
  "kernelspec": {
   "display_name": "Python 3",
   "language": "python",
   "name": "python3"
  },
  "language_info": {
   "codemirror_mode": {
    "name": "ipython",
    "version": 3
   },
   "file_extension": ".py",
   "mimetype": "text/x-python",
   "name": "python",
   "nbconvert_exporter": "python",
   "pygments_lexer": "ipython3",
   "version": "3.9.5"
  }
 },
 "nbformat": 4,
 "nbformat_minor": 4
}
