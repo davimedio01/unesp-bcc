{
 "cells": [
  {
   "cell_type": "markdown",
   "metadata": {},
   "source": [
    "<h1> Trabalho 1 - Análise de Algoritmos <br> Algoritmos de Ordenação </h1>\n",
    "<h3> Davi Augusto Neves Leite - RA: 191027383 <br> Luiz Fernando Sementille - RA: 191021032 </h3>"
   ]
  },
  {
   "cell_type": "markdown",
   "metadata": {},
   "source": [
    "---\n",
    "## 1. Introdução"
   ]
  },
  {
   "cell_type": "markdown",
   "metadata": {},
   "source": [
    "Este trabalho consiste na aplicação de alguns algoritmos de ordenação comumente utilizados, sendo eles: Bubble Sort, Insertion Sort, Merge Sort, QuickSort, HeapSort; em dois tipos de listas (ordenadas e aleatórias) com tamanho distintos, a fim de se avaliar a complexidade temporal dos mesmos. <br>\n",
    "\n",
    "Para tanto, as seções foram divididas em: Funções Auxiliares, a qual contem algumas funções utilizadas para facilitar a criação e manipulação das listas; Implementações dos Algoritmos, em que. como o próprio nome diz, traz a implementação na linguagem Python 3 de cada um dos algoritmos de ordenação; Experimentações, cujo intuito está em trazer o tempo médio de execução dos algoritmos tendo em vista os dois tipos de listas com tamanhos distintos; Resultados e Conclusões, na qual traz os resultados obtidos e as considerações finais acerca do tema.<br>\n",
    "\n",
    "Dessa forma, utilizou-se de dois código-fonte separados: um denominado de <em>T1_Ordenacao.py</em> e outro de <em>T1_Ordenacao_Testes.py</em>. O primeiro contém uma classe principal denominada <em>Ordenacao</em>, a qual estão contidas as implementações dos algoritmos de ordenação; enquanto que o segundo contém as funções auxiliares e a realização dos testes em si. A escolha para trabalhar-se com uma classe separada se deu por conta do conceito de reuso de código e facilidade de implementação posterior, bastando apenas realizar a chamada instância da classe.\n",
    "Por fim, necessitou-se de três bibliotecas para a melhor implementação dos algoritmos de ordenação e das medições de tempo.<br>\n",
    "\n",
    "Especificamente, abaixo tem-se a importação da biblioteca <em>heapq</em>, a qual possui funções primárias de construção e manipulação de uma árvore do tipo Heap (sendo utilizado no HeapSort), e está contida no arquivo <em>T1_Ordenacao.py</em> junto da classe principal <em>Ordenacao</em>. "
   ]
  },
  {
   "cell_type": "code",
   "execution_count": 1,
   "metadata": {},
   "outputs": [],
   "source": [
    "# Para a utilização da \"Heapify\" (construir uma Árvore Heap a partir de uma lista) no HeapSort\n",
    "import heapq"
   ]
  },
  {
   "cell_type": "markdown",
   "metadata": {},
   "source": [
    "Já as bibliotecas <em>random</em> e <em>time</em> são utilizadas no arquivo de testes, sendo fundamentais para a geração de listas e demarcação do tempo de execução de cada algoritmo de ordenação, respectivamente."
   ]
  },
  {
   "cell_type": "code",
   "execution_count": 2,
   "metadata": {},
   "outputs": [],
   "source": [
    "# Importação da Classe \"Ordenacao\" para uso das funções estabelecidas no outro arquivo\n",
    "from T1_Ordenacao import Ordenacao\n",
    "\n",
    "import random\n",
    "import time"
   ]
  },
  {
   "cell_type": "markdown",
   "metadata": {},
   "source": [
    "---\n",
    "## 2. Funções Auxiliares"
   ]
  },
  {
   "cell_type": "markdown",
   "metadata": {},
   "source": [
    "Para facilitar na criação e manipulação de listas, bem como na medição e exibição dos tempos de processamento dos algoritmos, foram desenvolvidas três funções auxiliares no código-fonte <em>T1_Ordenacao_Testes.py</em>. <br>\n",
    "\n",
    "A primeira, denominada de <em>geraLista</em>, é responsável por gerar e retornar uma lista de tamanho previamente especificado e que contenha elementos de 0 ao número equivalente a esse tamanho não incluso (por exemplo: considere um <em>tamanho = 10</em>, a lista a ser gerada conterá os elementos de 0 a 9, ordenados ou não). Além disso, possui um parâmetro denominado <em>ordenado</em>, o qual representa se a lista deve ser gerada de maneira ordenada (<em>ordenado=True</em>) ou de maneira aleatória (<em>ordenado=False</em>).\n"
   ]
  },
  {
   "cell_type": "code",
   "execution_count": 3,
   "metadata": {},
   "outputs": [],
   "source": [
    "def geraLista(limiteSuperior, ordenado=True):\n",
    "    \"\"\"\n",
    "        Função para gerar uma lista, ordenada ou aleatória, de tamanho especificado e\n",
    "        contendo elementos de 0 a um limite superior\n",
    "    \"\"\"\n",
    "    lista = list(range(0, limiteSuperior))  # Geração da lista ordenada\n",
    "\n",
    "    # Caso seja pra lista ser aleatória\n",
    "    if ordenado == False:\n",
    "        random.shuffle(lista)\n",
    "\n",
    "    return lista"
   ]
  },
  {
   "cell_type": "markdown",
   "metadata": {},
   "source": [
    "A segunda, denominada de <em>printaLista</em>, como o próprio nome sugere, é responsável por exibir os valores de uma lista (sendo restrito aos cinco primeiros e cinco últimos) e o tempo de processamento do respectivo algoritmo de ordenação aplicado."
   ]
  },
  {
   "cell_type": "code",
   "execution_count": 4,
   "metadata": {},
   "outputs": [],
   "source": [
    "def printaLista(lista, tempoProcesso=0.0, tipo=True):\n",
    "    \"\"\"\n",
    "        Função simples para printar uma lista,\n",
    "        limitando-se nos primeiros cinco e nos últimos cinco elementos\n",
    "\n",
    "        Além disso, mostra também o tempo de processamento do algoritmo...\n",
    "    \"\"\"\n",
    "    \n",
    "    tamanho = len(lista)  # Tamanho da lista\n",
    "\n",
    "    # Manipular a lista no caso do tamanho ser maior que 10\n",
    "    if tamanho > 10:\n",
    "        esquerda = [i for i in lista[0:5]]\n",
    "        direita = [i for i in lista[-5:]]\n",
    "\n",
    "        lista = esquerda + ['...'] + direita\n",
    "\n",
    "    # O tipo define se a lista é ordenada ou não: True - Antes da Ordenação; False - Depois da Ordenação\n",
    "    if tipo == True:\n",
    "        print(f'Lista antes da ordenação: {lista}')\n",
    "    else:\n",
    "        print(f'Lista depois da ordenação: {lista}\\n')\n",
    "        print(f'Tempo de Processamento: {tempoProcesso:0.4f} milissegundos (ms)\\n')"
   ]
  },
  {
   "cell_type": "markdown",
   "metadata": {},
   "source": [
    "A terceira e última, denominada de <em>executaOrdenacao</em>, é responsável por gerenciar as duas funções auxiliares anteriores bem como aplicar um algoritmo de ordenação (especificado por parâmetro) e calcular o seu respectivo tempo de processamento (em milissegundos), exibindo as listas antes e após a ordenação."
   ]
  },
  {
   "cell_type": "code",
   "execution_count": 5,
   "metadata": {},
   "outputs": [],
   "source": [
    "def executaOrdenacao(algOrd, lista):\n",
    "\n",
    "    printaLista(lista)\n",
    "\n",
    "    t0 = time.perf_counter()\n",
    "\n",
    "    algOrd(lista)\n",
    "\n",
    "    t1 = time.perf_counter()\n",
    "\n",
    "    tempoTotal = (t1 - t0) * 1000\n",
    "\n",
    "    printaLista(lista, tempoTotal, False)"
   ]
  },
  {
   "cell_type": "markdown",
   "metadata": {},
   "source": [
    "---\n",
    "## 3. Implementação dos Algoritmos"
   ]
  },
  {
   "cell_type": "markdown",
   "metadata": {},
   "source": [
    "Essa seção se restringe a exibição separada dos algoritmos de ordenação analisados neste trabalho e na respectiva classe final <em>Ordenacao</em>. Para tanto, utilizou-se as melhores implementações de cada um para a linguagem Python 3."
   ]
  },
  {
   "cell_type": "markdown",
   "metadata": {},
   "source": [
    "### BubbleSort"
   ]
  },
  {
   "cell_type": "code",
   "execution_count": 1,
   "metadata": {},
   "outputs": [],
   "source": [
    "    def bubbleSort(self, lista):\n",
    "        \"\"\"\n",
    "            Versão otimizada do BubbleSort: contém uma variável booleana que \n",
    "            verifica se a lista já está ordenada.\n",
    "            Complexidade do Algoritmo: O(n²)\n",
    "        \"\"\"\n",
    "        trocas = True\n",
    "        tamanhoVetor = len(lista) - 1\n",
    "        while tamanhoVetor > 0 and trocas:\n",
    "            trocas = False\n",
    "            for i in range(tamanhoVetor):\n",
    "                if lista[i] > lista[i + 1]:\n",
    "                    trocas = True\n",
    "                    # Variável Temporária de Troca -> Gasto Espacial\n",
    "                    lista[i], lista[i + 1] = lista[i + 1], lista[i]\n",
    "            tamanhoVetor -= 1"
   ]
  },
  {
   "cell_type": "markdown",
   "metadata": {},
   "source": [
    "### InsertionSort"
   ]
  },
  {
   "cell_type": "code",
   "execution_count": 6,
   "metadata": {},
   "outputs": [],
   "source": [
    "    def insertionSort(self, lista):\n",
    "        \"\"\"Algoritmo de ordenação InsertionSort\n",
    "        Complexidade do algoritmo: O(n²)\n",
    "\n",
    "        Args:\n",
    "            lista (Lista): lista a ser ordenada\n",
    "        \"\"\"\n",
    "        for i in range(1, len(lista)):\n",
    "            valor = lista[i]\n",
    "            j = i - 1\n",
    "\n",
    "            while j >= 0 and valor < lista[j]:\n",
    "                lista[j + 1] = lista[j]\n",
    "                j -= 1\n",
    "\n",
    "            lista[j + 1] = valor"
   ]
  },
  {
   "cell_type": "markdown",
   "metadata": {},
   "source": [
    "### MergeSort"
   ]
  },
  {
   "cell_type": "code",
   "execution_count": 7,
   "metadata": {},
   "outputs": [],
   "source": [
    "    def mergeSort(self, lista):\n",
    "        \"\"\"Algoritmo de ordenação MergeSort.\n",
    "        Complexidade do Algoritmo: O(n*log(n))\n",
    "\n",
    "        Args:\n",
    "            lista (List): Lista a ser ordenada\n",
    "        \"\"\"\n",
    "        # Caso-base: vetor com um elemento não é processado\n",
    "        if len(lista) > 1:\n",
    "            # Divisão inteira para pegar a posição do meio\n",
    "            meio = len(lista) // 2\n",
    "            # Salva a lista do início até o meio (esquerda)\n",
    "            esquerda = lista[:meio]\n",
    "            direita = lista[meio:]  # Salva a lista do meio até o fim (direita)\n",
    "\n",
    "            # Aplica o algoritmo novamente a fim de se obter a menor: Divisão e Conquista\n",
    "            self.mergeSort(esquerda)\n",
    "            self.mergeSort(direita)\n",
    "\n",
    "            # Auxiliares para percorrer as sub-listas\n",
    "            i, j, k = 0, 0, 0\n",
    "\n",
    "            # Percorrendo as sub-listas e ordenando...\n",
    "            while i < len(esquerda) and j < len(direita):\n",
    "                if esquerda[i] < direita[j]:\n",
    "                    # Salva o elemento ordenado na lista\n",
    "                    lista[k] = esquerda[i]\n",
    "                    i += 1\n",
    "                else:\n",
    "                    lista[k] = direita[j]\n",
    "                    j += 1\n",
    "                k += 1\n",
    "\n",
    "            # Percorrendo o restante da esquerda\n",
    "            while i < len(esquerda):\n",
    "                lista[k] = esquerda[i]\n",
    "                i += 1\n",
    "                k += 1\n",
    "\n",
    "            # Percorrendo o restante da direita\n",
    "            while j < len(direita):\n",
    "                lista[k] = direita[j]\n",
    "                j += 1\n",
    "                k += 1"
   ]
  },
  {
   "cell_type": "markdown",
   "metadata": {},
   "source": [
    "### QuickSort"
   ]
  },
  {
   "cell_type": "code",
   "execution_count": 7,
   "metadata": {},
   "outputs": [],
   "source": [
    "    def _quickSortAuxiliar(self, lista, prim, ult):\n",
    "        \n",
    "        i = prim\n",
    "        j = ult\n",
    "\n",
    "        pivo = lista[(i + j) // 2]\n",
    "\n",
    "        while i < j:\n",
    "            while lista[i] < pivo:\n",
    "                i += 1\n",
    "            \n",
    "            while lista[j] > pivo:\n",
    "                j -= 1\n",
    "                \n",
    "            if i <= j:\n",
    "                lista[i], lista[j] = lista[j], lista[i]\n",
    "\n",
    "                i += 1\n",
    "                j -= 1\n",
    "\n",
    "        if j > prim:\n",
    "            self._quickSortAuxiliar(lista, prim, j)\n",
    "        \n",
    "        if i < ult:\n",
    "            self._quickSortAuxiliar(lista, i, ult)\n",
    "            \n",
    "\n",
    "    def quickSort(self, lista):\n",
    "        \"\"\"Algoritmo de ordenação QuickSort que utiliza a recursão.\n",
    "        Complexidade do algoritmo: O(n²)\n",
    "\n",
    "        Args:\n",
    "            lista (List): lista a ser ordenada\n",
    "        \"\"\"\n",
    "\n",
    "        self._quickSortAuxiliar(lista, 0, len(lista) - 1)"
   ]
  },
  {
   "cell_type": "markdown",
   "metadata": {},
   "source": [
    "### HeapSort"
   ]
  },
  {
   "cell_type": "code",
   "execution_count": 9,
   "metadata": {},
   "outputs": [],
   "source": [
    "    def heapSort(self, lista):\n",
    "        \"\"\"Algoritmo de ordenação HeapSort.\n",
    "        Complexidade do algoritmo: O(n*log(n))\n",
    "\n",
    "        Args:\n",
    "            lista (List): Lista a ser ordenada\n",
    "        \"\"\"\n",
    "        tamanho = len(lista)\n",
    "\n",
    "        # Construindo uma HEAP-MÁXIMA a partir da lista\n",
    "        heapMaxima = list(lista)    # Gasto espacial\n",
    "        # Construção da HEAP-MAXIMA e é devolvida na variável\n",
    "        heapq.heapify(heapMaxima)\n",
    "\n",
    "        for i in range(0, tamanho):\n",
    "            # Remove o elemento da raiz da heap ordenada e coloca na lista\n",
    "            lista[i] = heapq.heappop(heapMaxima)"
   ]
  },
  {
   "cell_type": "markdown",
   "metadata": {},
   "source": [
    "<h3> Classe <em>Ordenacao</em> </h3>"
   ]
  },
  {
   "cell_type": "code",
   "execution_count": 6,
   "metadata": {},
   "outputs": [],
   "source": [
    "# Para a utilização da \"Heapify\" (construir uma Árvore Heap a partir de uma lista) no HeapSort\n",
    "import heapq\n",
    "\n",
    "\n",
    "class Ordenacao():\n",
    "    \"\"\"\n",
    "        Classe para algoritmos de ordenação de vetores by Davi & Luiz\n",
    "    \"\"\"\n",
    "    # def __init__(self):\n",
    "    # print(\"Classe ''Ordenação'' iniciada com sucesso!\\n\")\n",
    "\n",
    "    def bubbleSort(self, lista):\n",
    "        \"\"\"\n",
    "            Versão otimizada do BubbleSort: contém uma variável booleana que \n",
    "            verifica se a lista já está ordenada.\n",
    "            Complexidade do Algoritmo: O(n²)\n",
    "        \"\"\"\n",
    "        trocas = True\n",
    "        tamanhoVetor = len(lista) - 1\n",
    "        while tamanhoVetor > 0 and trocas:\n",
    "            trocas = False\n",
    "            for i in range(tamanhoVetor):\n",
    "                if lista[i] > lista[i + 1]:\n",
    "                    trocas = True\n",
    "                    # Variável Temporária de Troca -> Gasto Espacial\n",
    "                    lista[i], lista[i + 1] = lista[i + 1], lista[i]\n",
    "            tamanhoVetor -= 1\n",
    "\n",
    "    def insertionSort(self, lista):\n",
    "        \"\"\"Algoritmo de ordenação InsertionSort\n",
    "        Complexidade do algoritmo: O(n²)\n",
    "\n",
    "        Args:\n",
    "            lista (Lista): lista a ser ordenada\n",
    "        \"\"\"\n",
    "        for i in range(1, len(lista)):\n",
    "            valor = lista[i]\n",
    "            j = i - 1\n",
    "\n",
    "            while j >= 0 and valor < lista[j]:\n",
    "                lista[j + 1] = lista[j]\n",
    "                j -= 1\n",
    "\n",
    "            lista[j + 1] = valor\n",
    "\n",
    "    def mergeSort(self, lista):\n",
    "        \"\"\"Algoritmo de ordenação MergeSort.\n",
    "        Complexidade do Algoritmo: O(n*log(n))\n",
    "\n",
    "        Args:\n",
    "            lista (List): Lista a ser ordenada\n",
    "        \"\"\"\n",
    "        # Caso-base: vetor com um elemento não é processado\n",
    "        if len(lista) > 1:\n",
    "            # Divisão inteira para pegar a posição do meio\n",
    "            meio = len(lista) // 2\n",
    "            # Salva a lista do início até o meio (esquerda)\n",
    "            esquerda = lista[:meio]\n",
    "            direita = lista[meio:]  # Salva a lista do meio até o fim (direita)\n",
    "\n",
    "            # Aplica o algoritmo novamente a fim de se obter a menor: Divisão e Conquista\n",
    "            self.mergeSort(esquerda)\n",
    "            self.mergeSort(direita)\n",
    "\n",
    "            # Auxiliares para percorrer as sub-listas\n",
    "            i, j, k = 0, 0, 0\n",
    "\n",
    "            # Percorrendo as sub-listas e ordenando...\n",
    "            while i < len(esquerda) and j < len(direita):\n",
    "                if esquerda[i] < direita[j]:\n",
    "                    # Salva o elemento ordenado na lista\n",
    "                    lista[k] = esquerda[i]\n",
    "                    i += 1\n",
    "                else:\n",
    "                    lista[k] = direita[j]\n",
    "                    j += 1\n",
    "                k += 1\n",
    "\n",
    "            # Percorrendo o restante da esquerda\n",
    "            while i < len(esquerda):\n",
    "                lista[k] = esquerda[i]\n",
    "                i += 1\n",
    "                k += 1\n",
    "\n",
    "            # Percorrendo o restante da direita\n",
    "            while j < len(direita):\n",
    "                lista[k] = direita[j]\n",
    "                j += 1\n",
    "                k += 1\n",
    "        \n",
    "\n",
    "    def _quickSortAuxiliar(self, lista, prim, ult):\n",
    "        \n",
    "        i = prim\n",
    "        j = ult\n",
    "\n",
    "        pivo = lista[(i + j) // 2]\n",
    "\n",
    "        while i < j:\n",
    "            while lista[i] < pivo:\n",
    "                i += 1\n",
    "            \n",
    "            while lista[j] > pivo:\n",
    "                j -= 1\n",
    "                \n",
    "            if i <= j:\n",
    "                lista[i], lista[j] = lista[j], lista[i]\n",
    "\n",
    "                i += 1\n",
    "                j -= 1\n",
    "\n",
    "        if j > prim:\n",
    "            self._quickSortAuxiliar(lista, prim, j)\n",
    "        \n",
    "        if i < ult:\n",
    "            self._quickSortAuxiliar(lista, i, ult)\n",
    "            \n",
    "\n",
    "    def quickSort(self, lista):\n",
    "        \"\"\"Algoritmo de ordenação QuickSort que utiliza a recursão.\n",
    "        Complexidade do algoritmo: O(n²)\n",
    "\n",
    "        Args:\n",
    "            lista (List): lista a ser ordenada\n",
    "        \"\"\"\n",
    "\n",
    "        self._quickSortAuxiliar(lista, 0, len(lista) - 1)\n",
    "\n",
    "    def heapSort(self, lista):\n",
    "        \"\"\"Algoritmo de ordenação HeapSort.\n",
    "        Complexidade do algoritmo: O(n*log(n))\n",
    "\n",
    "        Args:\n",
    "            lista (List): Lista a ser ordenada\n",
    "        \"\"\"\n",
    "        tamanho = len(lista)\n",
    "\n",
    "        # Construindo uma HEAP-MÁXIMA a partir da lista\n",
    "        heapMaxima = list(lista)    # Gasto espacial\n",
    "        # Construção da HEAP-MAXIMA e é devolvida na variável\n",
    "        heapq.heapify(heapMaxima)\n",
    "\n",
    "        for i in range(0, tamanho):\n",
    "            # Remove o elemento da raiz da heap ordenada e coloca na lista\n",
    "            lista[i] = heapq.heappop(heapMaxima)\n"
   ]
  },
  {
   "cell_type": "markdown",
   "metadata": {},
   "source": [
    "---\n",
    "## 4. Experimentações"
   ]
  },
  {
   "cell_type": "markdown",
   "metadata": {},
   "source": [
    "Os experimentos foram divididos da seguinte forma: primeiramente, é definido um tamanho para a geração de listas, sendo utilizado tamanhos variando de 10, 100, 1000 e 10000 para a análise neste trabalho. Após isso, é definido o tipo de lista a ser gerada: aleatória ou ordenada, sendo o primeiro utilizado a função <em>shuffle</em> da biblioteca <em>random</em> para embaralhar os elementos. Por fim, é aplicado um algoritmo de ordenação e exibido o respectivo tempo de processamento (em milissegundos).<br>\n",
    "\n",
    "Desta forma, pode-se mensurar, em termos de complexidade temporal, as principais diferenças entre os algoritmos de ordenação utilizados neste trabalho."
   ]
  },
  {
   "cell_type": "markdown",
   "metadata": {},
   "source": [
    "---\n",
    "## Tamanho = 10"
   ]
  },
  {
   "cell_type": "code",
   "execution_count": 7,
   "metadata": {},
   "outputs": [],
   "source": [
    "tamanho = 10"
   ]
  },
  {
   "cell_type": "markdown",
   "metadata": {},
   "source": [
    "### Não-Ordenado"
   ]
  },
  {
   "cell_type": "code",
   "execution_count": 8,
   "metadata": {},
   "outputs": [],
   "source": [
    "tipo = False"
   ]
  },
  {
   "cell_type": "markdown",
   "metadata": {},
   "source": [
    "#### BubbleSort"
   ]
  },
  {
   "cell_type": "code",
   "execution_count": 9,
   "metadata": {},
   "outputs": [
    {
     "name": "stdout",
     "output_type": "stream",
     "text": [
      "Lista antes da ordenação: [2, 1, 5, 3, 0, 6, 4, 7, 8, 9]\n",
      "Lista depois da ordenação: [0, 1, 2, 3, 4, 5, 6, 7, 8, 9]\n",
      "\n",
      "Tempo de Processamento: 0.0074 milissegundos (ms)\n",
      "\n"
     ]
    }
   ],
   "source": [
    "lista = geraLista(tamanho, tipo)\n",
    "executaOrdenacao(Ordenacao().bubbleSort, lista)"
   ]
  },
  {
   "cell_type": "markdown",
   "metadata": {},
   "source": [
    "#### InsertionSort"
   ]
  },
  {
   "cell_type": "code",
   "execution_count": 10,
   "metadata": {},
   "outputs": [
    {
     "name": "stdout",
     "output_type": "stream",
     "text": [
      "Lista antes da ordenação: [9, 6, 2, 0, 5, 7, 1, 8, 3, 4]\n",
      "Lista depois da ordenação: [0, 1, 2, 3, 4, 5, 6, 7, 8, 9]\n",
      "\n",
      "Tempo de Processamento: 0.0307 milissegundos (ms)\n",
      "\n"
     ]
    }
   ],
   "source": [
    "lista = geraLista(tamanho, tipo)\n",
    "executaOrdenacao(Ordenacao().insertionSort, lista)"
   ]
  },
  {
   "cell_type": "markdown",
   "metadata": {},
   "source": [
    "#### MergeSort"
   ]
  },
  {
   "cell_type": "code",
   "execution_count": 11,
   "metadata": {},
   "outputs": [
    {
     "name": "stdout",
     "output_type": "stream",
     "text": [
      "Lista antes da ordenação: [3, 9, 0, 6, 2, 5, 8, 7, 1, 4]\n",
      "Lista depois da ordenação: [0, 1, 2, 3, 4, 5, 6, 7, 8, 9]\n",
      "\n",
      "Tempo de Processamento: 0.0371 milissegundos (ms)\n",
      "\n"
     ]
    }
   ],
   "source": [
    "lista = geraLista(tamanho, tipo)\n",
    "executaOrdenacao(Ordenacao().mergeSort, lista)"
   ]
  },
  {
   "cell_type": "markdown",
   "metadata": {},
   "source": [
    "#### QuickSort"
   ]
  },
  {
   "cell_type": "code",
   "execution_count": 12,
   "metadata": {},
   "outputs": [
    {
     "name": "stdout",
     "output_type": "stream",
     "text": [
      "Lista antes da ordenação: [8, 6, 5, 9, 0, 1, 2, 7, 3, 4]\n",
      "Lista depois da ordenação: [0, 1, 2, 3, 4, 5, 6, 7, 8, 9]\n",
      "\n",
      "Tempo de Processamento: 0.0204 milissegundos (ms)\n",
      "\n"
     ]
    }
   ],
   "source": [
    "lista = geraLista(tamanho, tipo)\n",
    "executaOrdenacao(Ordenacao().quickSort, lista)"
   ]
  },
  {
   "cell_type": "markdown",
   "metadata": {},
   "source": [
    "#### HeapSort"
   ]
  },
  {
   "cell_type": "code",
   "execution_count": 13,
   "metadata": {},
   "outputs": [
    {
     "name": "stdout",
     "output_type": "stream",
     "text": [
      "Lista antes da ordenação: [0, 4, 7, 5, 3, 8, 9, 6, 1, 2]\n",
      "Lista depois da ordenação: [0, 1, 2, 3, 4, 5, 6, 7, 8, 9]\n",
      "\n",
      "Tempo de Processamento: 0.0120 milissegundos (ms)\n",
      "\n"
     ]
    }
   ],
   "source": [
    "lista = geraLista(tamanho, tipo)\n",
    "executaOrdenacao(Ordenacao().heapSort, lista)"
   ]
  },
  {
   "cell_type": "markdown",
   "metadata": {},
   "source": [
    "### Ordenado"
   ]
  },
  {
   "cell_type": "code",
   "execution_count": 14,
   "metadata": {},
   "outputs": [],
   "source": [
    "tipo = True"
   ]
  },
  {
   "cell_type": "markdown",
   "metadata": {},
   "source": [
    "#### BubbleSort"
   ]
  },
  {
   "cell_type": "code",
   "execution_count": 15,
   "metadata": {},
   "outputs": [
    {
     "name": "stdout",
     "output_type": "stream",
     "text": [
      "Lista antes da ordenação: [0, 1, 2, 3, 4, 5, 6, 7, 8, 9]\n",
      "Lista depois da ordenação: [0, 1, 2, 3, 4, 5, 6, 7, 8, 9]\n",
      "\n",
      "Tempo de Processamento: 0.0100 milissegundos (ms)\n",
      "\n"
     ]
    }
   ],
   "source": [
    "lista = geraLista(tamanho, tipo)\n",
    "executaOrdenacao(Ordenacao().bubbleSort, lista)"
   ]
  },
  {
   "cell_type": "markdown",
   "metadata": {},
   "source": [
    "#### InsertionSort"
   ]
  },
  {
   "cell_type": "code",
   "execution_count": 16,
   "metadata": {},
   "outputs": [
    {
     "name": "stdout",
     "output_type": "stream",
     "text": [
      "Lista antes da ordenação: [0, 1, 2, 3, 4, 5, 6, 7, 8, 9]\n",
      "Lista depois da ordenação: [0, 1, 2, 3, 4, 5, 6, 7, 8, 9]\n",
      "\n",
      "Tempo de Processamento: 0.0071 milissegundos (ms)\n",
      "\n"
     ]
    }
   ],
   "source": [
    "lista = geraLista(tamanho, tipo)\n",
    "executaOrdenacao(Ordenacao().insertionSort, lista)"
   ]
  },
  {
   "cell_type": "markdown",
   "metadata": {},
   "source": [
    "#### MergeSort"
   ]
  },
  {
   "cell_type": "code",
   "execution_count": 17,
   "metadata": {},
   "outputs": [
    {
     "name": "stdout",
     "output_type": "stream",
     "text": [
      "Lista antes da ordenação: [0, 1, 2, 3, 4, 5, 6, 7, 8, 9]\n",
      "Lista depois da ordenação: [0, 1, 2, 3, 4, 5, 6, 7, 8, 9]\n",
      "\n",
      "Tempo de Processamento: 0.0766 milissegundos (ms)\n",
      "\n"
     ]
    }
   ],
   "source": [
    "lista = geraLista(tamanho, tipo)\n",
    "executaOrdenacao(Ordenacao().mergeSort, lista)"
   ]
  },
  {
   "cell_type": "markdown",
   "metadata": {},
   "source": [
    "#### QuickSort"
   ]
  },
  {
   "cell_type": "code",
   "execution_count": 18,
   "metadata": {},
   "outputs": [
    {
     "name": "stdout",
     "output_type": "stream",
     "text": [
      "Lista antes da ordenação: [0, 1, 2, 3, 4, 5, 6, 7, 8, 9]\n",
      "Lista depois da ordenação: [0, 1, 2, 3, 4, 5, 6, 7, 8, 9]\n",
      "\n",
      "Tempo de Processamento: 0.0275 milissegundos (ms)\n",
      "\n"
     ]
    }
   ],
   "source": [
    "lista = geraLista(tamanho, tipo)\n",
    "executaOrdenacao(Ordenacao().quickSort, lista)"
   ]
  },
  {
   "cell_type": "markdown",
   "metadata": {},
   "source": [
    "#### HeapSort"
   ]
  },
  {
   "cell_type": "code",
   "execution_count": 19,
   "metadata": {},
   "outputs": [
    {
     "name": "stdout",
     "output_type": "stream",
     "text": [
      "Lista antes da ordenação: [0, 1, 2, 3, 4, 5, 6, 7, 8, 9]\n",
      "Lista depois da ordenação: [0, 1, 2, 3, 4, 5, 6, 7, 8, 9]\n",
      "\n",
      "Tempo de Processamento: 0.0101 milissegundos (ms)\n",
      "\n"
     ]
    }
   ],
   "source": [
    "lista = geraLista(tamanho, tipo)\n",
    "executaOrdenacao(Ordenacao().heapSort, lista)"
   ]
  },
  {
   "cell_type": "markdown",
   "metadata": {},
   "source": [
    "---\n",
    "## Tamanho = 100"
   ]
  },
  {
   "cell_type": "code",
   "execution_count": 20,
   "metadata": {},
   "outputs": [],
   "source": [
    "tamanho = 100"
   ]
  },
  {
   "cell_type": "markdown",
   "metadata": {},
   "source": [
    "### Não-Ordenado"
   ]
  },
  {
   "cell_type": "code",
   "execution_count": 21,
   "metadata": {},
   "outputs": [],
   "source": [
    "tipo = False"
   ]
  },
  {
   "cell_type": "markdown",
   "metadata": {},
   "source": [
    "#### BubbleSort"
   ]
  },
  {
   "cell_type": "code",
   "execution_count": 22,
   "metadata": {},
   "outputs": [
    {
     "name": "stdout",
     "output_type": "stream",
     "text": [
      "Lista antes da ordenação: [18, 0, 95, 23, 47, '...', 7, 4, 69, 33, 10]\n",
      "Lista depois da ordenação: [0, 1, 2, 3, 4, '...', 95, 96, 97, 98, 99]\n",
      "\n",
      "Tempo de Processamento: 1.0631 milissegundos (ms)\n",
      "\n"
     ]
    }
   ],
   "source": [
    "lista = geraLista(tamanho, tipo)\n",
    "executaOrdenacao(Ordenacao().bubbleSort, lista)"
   ]
  },
  {
   "cell_type": "markdown",
   "metadata": {},
   "source": [
    "#### InsertionSort"
   ]
  },
  {
   "cell_type": "code",
   "execution_count": 23,
   "metadata": {},
   "outputs": [
    {
     "name": "stdout",
     "output_type": "stream",
     "text": [
      "Lista antes da ordenação: [35, 36, 94, 32, 97, '...', 76, 24, 99, 33, 95]\n",
      "Lista depois da ordenação: [0, 1, 2, 3, 4, '...', 95, 96, 97, 98, 99]\n",
      "\n",
      "Tempo de Processamento: 0.5454 milissegundos (ms)\n",
      "\n"
     ]
    }
   ],
   "source": [
    "lista = geraLista(tamanho, tipo)\n",
    "executaOrdenacao(Ordenacao().insertionSort, lista)"
   ]
  },
  {
   "cell_type": "markdown",
   "metadata": {},
   "source": [
    "#### MergeSort"
   ]
  },
  {
   "cell_type": "code",
   "execution_count": 24,
   "metadata": {},
   "outputs": [
    {
     "name": "stdout",
     "output_type": "stream",
     "text": [
      "Lista antes da ordenação: [16, 21, 73, 45, 95, '...', 71, 89, 63, 75, 64]\n",
      "Lista depois da ordenação: [0, 1, 2, 3, 4, '...', 95, 96, 97, 98, 99]\n",
      "\n",
      "Tempo de Processamento: 0.5697 milissegundos (ms)\n",
      "\n"
     ]
    }
   ],
   "source": [
    "lista = geraLista(tamanho, tipo)\n",
    "executaOrdenacao(Ordenacao().mergeSort, lista)"
   ]
  },
  {
   "cell_type": "markdown",
   "metadata": {},
   "source": [
    "#### QuickSort"
   ]
  },
  {
   "cell_type": "code",
   "execution_count": 25,
   "metadata": {},
   "outputs": [
    {
     "name": "stdout",
     "output_type": "stream",
     "text": [
      "Lista antes da ordenação: [40, 26, 22, 21, 27, '...', 80, 12, 52, 16, 64]\n",
      "Lista depois da ordenação: [0, 1, 2, 3, 4, '...', 95, 96, 97, 98, 99]\n",
      "\n",
      "Tempo de Processamento: 0.1806 milissegundos (ms)\n",
      "\n"
     ]
    }
   ],
   "source": [
    "lista = geraLista(tamanho, tipo)\n",
    "executaOrdenacao(Ordenacao().quickSort, lista)"
   ]
  },
  {
   "cell_type": "markdown",
   "metadata": {},
   "source": [
    "#### HeapSort"
   ]
  },
  {
   "cell_type": "code",
   "execution_count": 26,
   "metadata": {},
   "outputs": [
    {
     "name": "stdout",
     "output_type": "stream",
     "text": [
      "Lista antes da ordenação: [45, 25, 40, 60, 59, '...', 88, 87, 69, 57, 90]\n",
      "Lista depois da ordenação: [0, 1, 2, 3, 4, '...', 95, 96, 97, 98, 99]\n",
      "\n",
      "Tempo de Processamento: 0.0882 milissegundos (ms)\n",
      "\n"
     ]
    }
   ],
   "source": [
    "lista = geraLista(tamanho, tipo)\n",
    "executaOrdenacao(Ordenacao().heapSort, lista)"
   ]
  },
  {
   "cell_type": "markdown",
   "metadata": {},
   "source": [
    "### Ordenado"
   ]
  },
  {
   "cell_type": "code",
   "execution_count": 27,
   "metadata": {},
   "outputs": [],
   "source": [
    "tipo = True"
   ]
  },
  {
   "cell_type": "markdown",
   "metadata": {},
   "source": [
    "#### BubbleSort"
   ]
  },
  {
   "cell_type": "code",
   "execution_count": 28,
   "metadata": {},
   "outputs": [
    {
     "name": "stdout",
     "output_type": "stream",
     "text": [
      "Lista antes da ordenação: [0, 1, 2, 3, 4, '...', 95, 96, 97, 98, 99]\n",
      "Lista depois da ordenação: [0, 1, 2, 3, 4, '...', 95, 96, 97, 98, 99]\n",
      "\n",
      "Tempo de Processamento: 0.0154 milissegundos (ms)\n",
      "\n"
     ]
    }
   ],
   "source": [
    "lista = geraLista(tamanho, tipo)\n",
    "executaOrdenacao(Ordenacao().bubbleSort, lista)"
   ]
  },
  {
   "cell_type": "markdown",
   "metadata": {},
   "source": [
    "#### InsertionSort"
   ]
  },
  {
   "cell_type": "code",
   "execution_count": 29,
   "metadata": {},
   "outputs": [
    {
     "name": "stdout",
     "output_type": "stream",
     "text": [
      "Lista antes da ordenação: [0, 1, 2, 3, 4, '...', 95, 96, 97, 98, 99]\n",
      "Lista depois da ordenação: [0, 1, 2, 3, 4, '...', 95, 96, 97, 98, 99]\n",
      "\n",
      "Tempo de Processamento: 0.0127 milissegundos (ms)\n",
      "\n"
     ]
    }
   ],
   "source": [
    "lista = geraLista(tamanho, tipo)\n",
    "executaOrdenacao(Ordenacao().insertionSort, lista)"
   ]
  },
  {
   "cell_type": "markdown",
   "metadata": {},
   "source": [
    "#### MergeSort"
   ]
  },
  {
   "cell_type": "code",
   "execution_count": 30,
   "metadata": {},
   "outputs": [
    {
     "name": "stdout",
     "output_type": "stream",
     "text": [
      "Lista antes da ordenação: [0, 1, 2, 3, 4, '...', 95, 96, 97, 98, 99]\n",
      "Lista depois da ordenação: [0, 1, 2, 3, 4, '...', 95, 96, 97, 98, 99]\n",
      "\n",
      "Tempo de Processamento: 0.1931 milissegundos (ms)\n",
      "\n"
     ]
    }
   ],
   "source": [
    "lista = geraLista(tamanho, tipo)\n",
    "executaOrdenacao(Ordenacao().mergeSort, lista)"
   ]
  },
  {
   "cell_type": "markdown",
   "metadata": {},
   "source": [
    "#### QuickSort"
   ]
  },
  {
   "cell_type": "code",
   "execution_count": 31,
   "metadata": {},
   "outputs": [
    {
     "name": "stdout",
     "output_type": "stream",
     "text": [
      "Lista antes da ordenação: [0, 1, 2, 3, 4, '...', 95, 96, 97, 98, 99]\n",
      "Lista depois da ordenação: [0, 1, 2, 3, 4, '...', 95, 96, 97, 98, 99]\n",
      "\n",
      "Tempo de Processamento: 0.0559 milissegundos (ms)\n",
      "\n"
     ]
    }
   ],
   "source": [
    "lista = geraLista(tamanho, tipo)\n",
    "executaOrdenacao(Ordenacao().quickSort, lista)"
   ]
  },
  {
   "cell_type": "markdown",
   "metadata": {},
   "source": [
    "#### HeapSort"
   ]
  },
  {
   "cell_type": "code",
   "execution_count": 32,
   "metadata": {},
   "outputs": [
    {
     "name": "stdout",
     "output_type": "stream",
     "text": [
      "Lista antes da ordenação: [0, 1, 2, 3, 4, '...', 95, 96, 97, 98, 99]\n",
      "Lista depois da ordenação: [0, 1, 2, 3, 4, '...', 95, 96, 97, 98, 99]\n",
      "\n",
      "Tempo de Processamento: 0.0298 milissegundos (ms)\n",
      "\n"
     ]
    }
   ],
   "source": [
    "lista = geraLista(tamanho, tipo)\n",
    "executaOrdenacao(Ordenacao().heapSort, lista)"
   ]
  },
  {
   "cell_type": "markdown",
   "metadata": {},
   "source": [
    "---\n",
    "## Tamanho = 1000"
   ]
  },
  {
   "cell_type": "code",
   "execution_count": 33,
   "metadata": {},
   "outputs": [],
   "source": [
    "tamanho = 1000"
   ]
  },
  {
   "cell_type": "markdown",
   "metadata": {},
   "source": [
    "### Não-Ordenado"
   ]
  },
  {
   "cell_type": "code",
   "execution_count": 34,
   "metadata": {},
   "outputs": [],
   "source": [
    "tipo = False"
   ]
  },
  {
   "cell_type": "markdown",
   "metadata": {},
   "source": [
    "#### BubbleSort"
   ]
  },
  {
   "cell_type": "code",
   "execution_count": 35,
   "metadata": {},
   "outputs": [
    {
     "name": "stdout",
     "output_type": "stream",
     "text": [
      "Lista antes da ordenação: [705, 996, 528, 33, 601, '...', 926, 584, 606, 448, 796]\n",
      "Lista depois da ordenação: [0, 1, 2, 3, 4, '...', 995, 996, 997, 998, 999]\n",
      "\n",
      "Tempo de Processamento: 76.7258 milissegundos (ms)\n",
      "\n"
     ]
    }
   ],
   "source": [
    "lista = geraLista(tamanho, tipo)\n",
    "executaOrdenacao(Ordenacao().bubbleSort, lista)"
   ]
  },
  {
   "cell_type": "markdown",
   "metadata": {},
   "source": [
    "#### InsertionSort"
   ]
  },
  {
   "cell_type": "code",
   "execution_count": 36,
   "metadata": {},
   "outputs": [
    {
     "name": "stdout",
     "output_type": "stream",
     "text": [
      "Lista antes da ordenação: [490, 228, 968, 298, 985, '...', 715, 424, 179, 269, 578]\n",
      "Lista depois da ordenação: [0, 1, 2, 3, 4, '...', 995, 996, 997, 998, 999]\n",
      "\n",
      "Tempo de Processamento: 63.9077 milissegundos (ms)\n",
      "\n"
     ]
    }
   ],
   "source": [
    "lista = geraLista(tamanho, tipo)\n",
    "executaOrdenacao(Ordenacao().insertionSort, lista)"
   ]
  },
  {
   "cell_type": "markdown",
   "metadata": {},
   "source": [
    "#### MergeSort"
   ]
  },
  {
   "cell_type": "code",
   "execution_count": 37,
   "metadata": {},
   "outputs": [
    {
     "name": "stdout",
     "output_type": "stream",
     "text": [
      "Lista antes da ordenação: [665, 683, 342, 599, 819, '...', 620, 905, 598, 817, 201]\n",
      "Lista depois da ordenação: [0, 1, 2, 3, 4, '...', 995, 996, 997, 998, 999]\n",
      "\n",
      "Tempo de Processamento: 10.8624 milissegundos (ms)\n",
      "\n"
     ]
    }
   ],
   "source": [
    "lista = geraLista(tamanho, tipo)\n",
    "executaOrdenacao(Ordenacao().mergeSort, lista)"
   ]
  },
  {
   "cell_type": "markdown",
   "metadata": {},
   "source": [
    "#### QuickSort"
   ]
  },
  {
   "cell_type": "code",
   "execution_count": 38,
   "metadata": {},
   "outputs": [
    {
     "name": "stdout",
     "output_type": "stream",
     "text": [
      "Lista antes da ordenação: [389, 242, 35, 372, 665, '...', 63, 344, 41, 246, 752]\n",
      "Lista depois da ordenação: [0, 1, 2, 3, 4, '...', 995, 996, 997, 998, 999]\n",
      "\n",
      "Tempo de Processamento: 3.5113 milissegundos (ms)\n",
      "\n"
     ]
    }
   ],
   "source": [
    "lista = geraLista(tamanho, tipo)\n",
    "executaOrdenacao(Ordenacao().quickSort, lista)"
   ]
  },
  {
   "cell_type": "markdown",
   "metadata": {},
   "source": [
    "#### HeapSort"
   ]
  },
  {
   "cell_type": "code",
   "execution_count": 39,
   "metadata": {},
   "outputs": [
    {
     "name": "stdout",
     "output_type": "stream",
     "text": [
      "Lista antes da ordenação: [746, 70, 841, 483, 618, '...', 206, 685, 613, 552, 292]\n",
      "Lista depois da ordenação: [0, 1, 2, 3, 4, '...', 995, 996, 997, 998, 999]\n",
      "\n",
      "Tempo de Processamento: 0.6015 milissegundos (ms)\n",
      "\n"
     ]
    }
   ],
   "source": [
    "lista = geraLista(tamanho, tipo)\n",
    "executaOrdenacao(Ordenacao().heapSort, lista)"
   ]
  },
  {
   "cell_type": "markdown",
   "metadata": {},
   "source": [
    "### Ordenado"
   ]
  },
  {
   "cell_type": "code",
   "execution_count": 40,
   "metadata": {},
   "outputs": [],
   "source": [
    "tipo = True"
   ]
  },
  {
   "cell_type": "markdown",
   "metadata": {},
   "source": [
    "#### BubbleSort"
   ]
  },
  {
   "cell_type": "code",
   "execution_count": 41,
   "metadata": {},
   "outputs": [
    {
     "name": "stdout",
     "output_type": "stream",
     "text": [
      "Lista antes da ordenação: [0, 1, 2, 3, 4, '...', 995, 996, 997, 998, 999]\n",
      "Lista depois da ordenação: [0, 1, 2, 3, 4, '...', 995, 996, 997, 998, 999]\n",
      "\n",
      "Tempo de Processamento: 0.2351 milissegundos (ms)\n",
      "\n"
     ]
    }
   ],
   "source": [
    "lista = geraLista(tamanho, tipo)\n",
    "executaOrdenacao(Ordenacao().bubbleSort, lista)"
   ]
  },
  {
   "cell_type": "markdown",
   "metadata": {},
   "source": [
    "#### InsertionSort"
   ]
  },
  {
   "cell_type": "code",
   "execution_count": 42,
   "metadata": {},
   "outputs": [
    {
     "name": "stdout",
     "output_type": "stream",
     "text": [
      "Lista antes da ordenação: [0, 1, 2, 3, 4, '...', 995, 996, 997, 998, 999]\n",
      "Lista depois da ordenação: [0, 1, 2, 3, 4, '...', 995, 996, 997, 998, 999]\n",
      "\n",
      "Tempo de Processamento: 0.2723 milissegundos (ms)\n",
      "\n"
     ]
    }
   ],
   "source": [
    "lista = geraLista(tamanho, tipo)\n",
    "executaOrdenacao(Ordenacao().insertionSort, lista)"
   ]
  },
  {
   "cell_type": "markdown",
   "metadata": {},
   "source": [
    "#### MergeSort"
   ]
  },
  {
   "cell_type": "code",
   "execution_count": 43,
   "metadata": {},
   "outputs": [
    {
     "name": "stdout",
     "output_type": "stream",
     "text": [
      "Lista antes da ordenação: [0, 1, 2, 3, 4, '...', 995, 996, 997, 998, 999]\n",
      "Lista depois da ordenação: [0, 1, 2, 3, 4, '...', 995, 996, 997, 998, 999]\n",
      "\n",
      "Tempo de Processamento: 4.5194 milissegundos (ms)\n",
      "\n"
     ]
    }
   ],
   "source": [
    "lista = geraLista(tamanho, tipo)\n",
    "executaOrdenacao(Ordenacao().mergeSort, lista)"
   ]
  },
  {
   "cell_type": "markdown",
   "metadata": {},
   "source": [
    "#### QuickSort"
   ]
  },
  {
   "cell_type": "code",
   "execution_count": 44,
   "metadata": {},
   "outputs": [
    {
     "name": "stdout",
     "output_type": "stream",
     "text": [
      "Lista antes da ordenação: [0, 1, 2, 3, 4, '...', 995, 996, 997, 998, 999]\n",
      "Lista depois da ordenação: [0, 1, 2, 3, 4, '...', 995, 996, 997, 998, 999]\n",
      "\n",
      "Tempo de Processamento: 1.2644 milissegundos (ms)\n",
      "\n"
     ]
    }
   ],
   "source": [
    "lista = geraLista(tamanho, tipo)\n",
    "executaOrdenacao(Ordenacao().quickSort, lista)"
   ]
  },
  {
   "cell_type": "markdown",
   "metadata": {},
   "source": [
    "#### HeapSort"
   ]
  },
  {
   "cell_type": "code",
   "execution_count": 45,
   "metadata": {},
   "outputs": [
    {
     "name": "stdout",
     "output_type": "stream",
     "text": [
      "Lista antes da ordenação: [0, 1, 2, 3, 4, '...', 995, 996, 997, 998, 999]\n",
      "Lista depois da ordenação: [0, 1, 2, 3, 4, '...', 995, 996, 997, 998, 999]\n",
      "\n",
      "Tempo de Processamento: 0.5686 milissegundos (ms)\n",
      "\n"
     ]
    }
   ],
   "source": [
    "lista = geraLista(tamanho, tipo)\n",
    "executaOrdenacao(Ordenacao().heapSort, lista)"
   ]
  },
  {
   "cell_type": "markdown",
   "metadata": {},
   "source": [
    "---\n",
    "## Tamanho = 10000"
   ]
  },
  {
   "cell_type": "code",
   "execution_count": 46,
   "metadata": {},
   "outputs": [],
   "source": [
    "tamanho = 10000"
   ]
  },
  {
   "cell_type": "markdown",
   "metadata": {},
   "source": [
    "### Não-Ordenado"
   ]
  },
  {
   "cell_type": "code",
   "execution_count": 47,
   "metadata": {},
   "outputs": [],
   "source": [
    "tipo = False"
   ]
  },
  {
   "cell_type": "markdown",
   "metadata": {},
   "source": [
    "#### BubbleSort"
   ]
  },
  {
   "cell_type": "code",
   "execution_count": 48,
   "metadata": {},
   "outputs": [
    {
     "name": "stdout",
     "output_type": "stream",
     "text": [
      "Lista antes da ordenação: [2275, 7589, 2488, 7183, 9272, '...', 906, 4975, 3825, 737, 2555]\n",
      "Lista depois da ordenação: [0, 1, 2, 3, 4, '...', 9995, 9996, 9997, 9998, 9999]\n",
      "\n",
      "Tempo de Processamento: 15562.7740 milissegundos (ms)\n",
      "\n"
     ]
    }
   ],
   "source": [
    "lista = geraLista(tamanho, tipo)\n",
    "executaOrdenacao(Ordenacao().bubbleSort, lista)"
   ]
  },
  {
   "cell_type": "markdown",
   "metadata": {},
   "source": [
    "#### InsertionSort"
   ]
  },
  {
   "cell_type": "code",
   "execution_count": 49,
   "metadata": {},
   "outputs": [
    {
     "name": "stdout",
     "output_type": "stream",
     "text": [
      "Lista antes da ordenação: [6319, 7128, 1039, 9396, 5506, '...', 1959, 2684, 4997, 8563, 22]\n",
      "Lista depois da ordenação: [0, 1, 2, 3, 4, '...', 9995, 9996, 9997, 9998, 9999]\n",
      "\n",
      "Tempo de Processamento: 6122.4051 milissegundos (ms)\n",
      "\n"
     ]
    }
   ],
   "source": [
    "lista = geraLista(tamanho, tipo)\n",
    "executaOrdenacao(Ordenacao().insertionSort, lista)"
   ]
  },
  {
   "cell_type": "markdown",
   "metadata": {},
   "source": [
    "#### MergeSort"
   ]
  },
  {
   "cell_type": "code",
   "execution_count": 50,
   "metadata": {},
   "outputs": [
    {
     "name": "stdout",
     "output_type": "stream",
     "text": [
      "Lista antes da ordenação: [4441, 3163, 6626, 3410, 1047, '...', 8209, 8066, 4120, 8326, 5683]\n",
      "Lista depois da ordenação: [0, 1, 2, 3, 4, '...', 9995, 9996, 9997, 9998, 9999]\n",
      "\n",
      "Tempo de Processamento: 74.3101 milissegundos (ms)\n",
      "\n"
     ]
    }
   ],
   "source": [
    "lista = geraLista(tamanho, tipo)\n",
    "executaOrdenacao(Ordenacao().mergeSort, lista)"
   ]
  },
  {
   "cell_type": "markdown",
   "metadata": {},
   "source": [
    "#### QuickSort"
   ]
  },
  {
   "cell_type": "code",
   "execution_count": 51,
   "metadata": {},
   "outputs": [
    {
     "name": "stdout",
     "output_type": "stream",
     "text": [
      "Lista antes da ordenação: [9599, 6840, 765, 5592, 2939, '...', 6740, 4314, 4908, 3284, 1446]\n",
      "Lista depois da ordenação: [0, 1, 2, 3, 4, '...', 9995, 9996, 9997, 9998, 9999]\n",
      "\n",
      "Tempo de Processamento: 42.6471 milissegundos (ms)\n",
      "\n"
     ]
    }
   ],
   "source": [
    "lista = geraLista(tamanho, tipo)\n",
    "executaOrdenacao(Ordenacao().quickSort, lista)"
   ]
  },
  {
   "cell_type": "markdown",
   "metadata": {},
   "source": [
    "#### HeapSort"
   ]
  },
  {
   "cell_type": "code",
   "execution_count": 52,
   "metadata": {},
   "outputs": [
    {
     "name": "stdout",
     "output_type": "stream",
     "text": [
      "Lista antes da ordenação: [1483, 1643, 6106, 1617, 8920, '...', 6834, 5796, 7993, 7453, 4399]\n",
      "Lista depois da ordenação: [0, 1, 2, 3, 4, '...', 9995, 9996, 9997, 9998, 9999]\n",
      "\n",
      "Tempo de Processamento: 9.6814 milissegundos (ms)\n",
      "\n"
     ]
    }
   ],
   "source": [
    "lista = geraLista(tamanho, tipo)\n",
    "executaOrdenacao(Ordenacao().heapSort, lista)"
   ]
  },
  {
   "cell_type": "markdown",
   "metadata": {},
   "source": [
    "### Ordenado"
   ]
  },
  {
   "cell_type": "code",
   "execution_count": 53,
   "metadata": {},
   "outputs": [],
   "source": [
    "tipo = True"
   ]
  },
  {
   "cell_type": "markdown",
   "metadata": {},
   "source": [
    "#### BubbleSort"
   ]
  },
  {
   "cell_type": "code",
   "execution_count": 54,
   "metadata": {},
   "outputs": [
    {
     "name": "stdout",
     "output_type": "stream",
     "text": [
      "Lista antes da ordenação: [0, 1, 2, 3, 4, '...', 9995, 9996, 9997, 9998, 9999]\n",
      "Lista depois da ordenação: [0, 1, 2, 3, 4, '...', 9995, 9996, 9997, 9998, 9999]\n",
      "\n",
      "Tempo de Processamento: 1.5928 milissegundos (ms)\n",
      "\n"
     ]
    }
   ],
   "source": [
    "lista = geraLista(tamanho, tipo)\n",
    "executaOrdenacao(Ordenacao().bubbleSort, lista)"
   ]
  },
  {
   "cell_type": "markdown",
   "metadata": {},
   "source": [
    "#### InsertionSort"
   ]
  },
  {
   "cell_type": "code",
   "execution_count": 55,
   "metadata": {},
   "outputs": [
    {
     "name": "stdout",
     "output_type": "stream",
     "text": [
      "Lista antes da ordenação: [0, 1, 2, 3, 4, '...', 9995, 9996, 9997, 9998, 9999]\n",
      "Lista depois da ordenação: [0, 1, 2, 3, 4, '...', 9995, 9996, 9997, 9998, 9999]\n",
      "\n",
      "Tempo de Processamento: 6.0687 milissegundos (ms)\n",
      "\n"
     ]
    }
   ],
   "source": [
    "lista = geraLista(tamanho, tipo)\n",
    "executaOrdenacao(Ordenacao().insertionSort, lista)"
   ]
  },
  {
   "cell_type": "markdown",
   "metadata": {},
   "source": [
    "#### MergeSort"
   ]
  },
  {
   "cell_type": "code",
   "execution_count": 56,
   "metadata": {},
   "outputs": [
    {
     "name": "stdout",
     "output_type": "stream",
     "text": [
      "Lista antes da ordenação: [0, 1, 2, 3, 4, '...', 9995, 9996, 9997, 9998, 9999]\n",
      "Lista depois da ordenação: [0, 1, 2, 3, 4, '...', 9995, 9996, 9997, 9998, 9999]\n",
      "\n",
      "Tempo de Processamento: 62.2840 milissegundos (ms)\n",
      "\n"
     ]
    }
   ],
   "source": [
    "lista = geraLista(tamanho, tipo)\n",
    "executaOrdenacao(Ordenacao().mergeSort, lista)"
   ]
  },
  {
   "cell_type": "markdown",
   "metadata": {},
   "source": [
    "#### QuickSort"
   ]
  },
  {
   "cell_type": "code",
   "execution_count": 57,
   "metadata": {},
   "outputs": [
    {
     "name": "stdout",
     "output_type": "stream",
     "text": [
      "Lista antes da ordenação: [0, 1, 2, 3, 4, '...', 9995, 9996, 9997, 9998, 9999]\n",
      "Lista depois da ordenação: [0, 1, 2, 3, 4, '...', 9995, 9996, 9997, 9998, 9999]\n",
      "\n",
      "Tempo de Processamento: 28.1851 milissegundos (ms)\n",
      "\n"
     ]
    }
   ],
   "source": [
    "lista = geraLista(tamanho, tipo)\n",
    "executaOrdenacao(Ordenacao().quickSort, lista)"
   ]
  },
  {
   "cell_type": "markdown",
   "metadata": {},
   "source": [
    "#### HeapSort"
   ]
  },
  {
   "cell_type": "code",
   "execution_count": 58,
   "metadata": {},
   "outputs": [
    {
     "name": "stdout",
     "output_type": "stream",
     "text": [
      "Lista antes da ordenação: [0, 1, 2, 3, 4, '...', 9995, 9996, 9997, 9998, 9999]\n",
      "Lista depois da ordenação: [0, 1, 2, 3, 4, '...', 9995, 9996, 9997, 9998, 9999]\n",
      "\n",
      "Tempo de Processamento: 7.5465 milissegundos (ms)\n",
      "\n"
     ]
    }
   ],
   "source": [
    "lista = geraLista(tamanho, tipo)\n",
    "executaOrdenacao(Ordenacao().heapSort, lista)"
   ]
  },
  {
   "cell_type": "markdown",
   "metadata": {},
   "source": [
    "---\n",
    "## 5. Resultados e Conclusões"
   ]
  },
  {
   "cell_type": "markdown",
   "metadata": {},
   "source": [
    "Para inferir sobre o desempenho dos algoritmos é necessário ter em vista que os algoritmos avaliados compartilham, em algumas situações, técnicas semelhantes como o aninhamento de laços de repetição, dividir para conquistar e lista de prioridades.<br><br>"
   ]
  },
  {
   "cell_type": "markdown",
   "metadata": {},
   "source": [
    "| Tabela de Tempo (em ms) | Tamanho = 10 |          | Tamanho = 100 |          | Tamanho = 1000 |          | Tamanho = 10000 |          |\n",
    "|-------------------------|--------------|----------|---------------|----------|----------------|----------|-----------------|----------|\n",
    "|                         | Não Ordenado | Ordenado | Não Ordenado  | Ordenado | Não Ordenado   | Ordenado | Não Ordenado    | Ordenado |\n",
    "| BubbleSort              | 0,0074       | 0,0100   | 1,0631        | 0,0154   | 76,7258        | 0,2351   | 15562,7740      | 1,5928   |\n",
    "| InsertionSort           | 0,0307       | 0,0071   | 0,5454        | 0,0127   | 63,9077        | 0,2723   | 6122,4051       | 6,0687   |\n",
    "| MergeSort               | 0,0371       | 0,0766   | 0,5697        | 0,1931   | 10,8624        | 4,5194   | 74,3101         | 62,2840  |\n",
    "| QuickSort               | 0,0204       | 0,0275   | 0,1806        | 0,0559   | 3,5113         | 1,2644   | 42,6471         | 28,1851  |\n",
    "| HeapSort                | 0,0120       | 0,0101   | 0,0882        | 0,0298   | 0,6015         | 0,5686   | 9,6814          | 7,5465   |\n"
   ]
  },
  {
   "cell_type": "markdown",
   "metadata": {},
   "source": [
    "<br>\n",
    "Os algoritmos BubbleSort e InsertionSort, que utilizam o aninhamento de laços de repetição (daí a complexidade O(n²)), performaram melhor em relação aos outros algoritmos, quando testados com listas de todos os tamanhos desde que já ordenadas, visto que apenas a execução de uma iteração completa sobre a lista é necessária para identificar que a lista já está ordenada. Agora, em se tratando de listas não ordenadas, esses algoritmos performam bem apenas em listas de até 100 elementos.<br><br>\n",
    "\n",
    "Os algoritmos de MergeSort e QuickSort, que utilizam a abordagem de dividir para conquistar, tendem a ter uma performance aceitável com vetores de tamanhos menores, mas o melhor desempenho desses algoritmos foram extraídos com listas maiores e não ordenadas, visto que dividem a lista maior em sublistas menores.<br>\n",
    "\n",
    "Já o algoritmo de HeapSort, que utiliza a estrutura de dados Heap (Fila de Prioridades), performou de forma excelente em listas não ordenadas de qualquer tamanho e performou de forma aceitável em listas já ordenadas de qualquer tamanho. Diante disso, é possível afirmar que esse algoritmo foi o mais \"equilibrado\" dentre os analisados.<br>\n",
    "\n",
    "Logo, é possível concluir que não existe um único algoritmo que tenha um desempenho excelente em todos os casos e sob todas as variáveis, mas é possível definir quais algoritmos desempenham melhor em cada situação desde que se conheça a natureza da lista previamente."
   ]
  }
 ],
 "metadata": {
  "kernelspec": {
   "display_name": "Python 3",
   "language": "python",
   "name": "python3"
  },
  "language_info": {
   "codemirror_mode": {
    "name": "ipython",
    "version": 3
   },
   "file_extension": ".py",
   "mimetype": "text/x-python",
   "name": "python",
   "nbconvert_exporter": "python",
   "pygments_lexer": "ipython3",
   "version": "3.9.5"
  }
 },
 "nbformat": 4,
 "nbformat_minor": 4
}
